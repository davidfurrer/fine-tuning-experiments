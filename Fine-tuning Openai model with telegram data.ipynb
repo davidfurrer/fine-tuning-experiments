{
 "cells": [
  {
   "cell_type": "markdown",
   "id": "3900351f-f3dd-4e2a-aeb7-ae241068e236",
   "metadata": {},
   "source": [
    "# Finetuning an openai model using telegram chat data"
   ]
  },
  {
   "cell_type": "markdown",
   "id": "21b4cd9e-5e3a-4d90-84bf-17aa5e07bab9",
   "metadata": {},
   "source": [
    "https://platform.openai.com/docs/guides/fine-tuning/preparing-your-dataset"
   ]
  },
  {
   "cell_type": "code",
   "execution_count": 4,
   "id": "ae6ab61a-2c59-4b2a-b1db-e9c6e1e9f4cb",
   "metadata": {},
   "outputs": [],
   "source": [
    "import pandas as pd\n",
    "import matplotlib.pyplot as plt\n",
    "import matplotlib.dates as mdates\n",
    "import openai\n",
    "import requests\n",
    "import re\n",
    "import urllib.request\n",
    "from collections import deque\n",
    "from html.parser import HTMLParser\n",
    "from urllib.parse import urlparse\n",
    "import os\n",
    "from dotenv import dotenv_values\n",
    "import time\n",
    "import json"
   ]
  },
  {
   "cell_type": "code",
   "execution_count": 5,
   "id": "ce5eff5c-c275-44ce-be02-af12c0322c8c",
   "metadata": {},
   "outputs": [],
   "source": [
    "# create a file called .env.local\n",
    "# shoudl contain \n",
    "# OPENAI_API_KEY=<your_key>\n",
    "env_vars = dotenv_values('../.env.local')\n",
    "openai.api_key = env_vars['OPENAI_API_KEY']"
   ]
  },
  {
   "cell_type": "markdown",
   "id": "bd82501c-b8ac-4e93-9cf7-4e5aa9ece99b",
   "metadata": {},
   "source": [
    "## Loading the json from telegram export"
   ]
  },
  {
   "cell_type": "code",
   "execution_count": 6,
   "id": "124fa947-582d-4b71-a699-fa3f4730f404",
   "metadata": {},
   "outputs": [
    {
     "name": "stdout",
     "output_type": "stream",
     "text": [
      "dict_keys(['about', 'personal_information', 'profile_pictures', 'contacts', 'frequent_contacts', 'chats', 'left_chats'])\n"
     ]
    }
   ],
   "source": [
    "# Specify the path to your JSON file\n",
    "json_file_path = \"telegram_result.json\"\n",
    "\n",
    "# Open the JSON file and load its contents\n",
    "with open(json_file_path) as json_file:\n",
    "    data = json.load(json_file)\n",
    "\n",
    "# Now you can work with the loaded JSON data\n",
    "# For example, you can access values using keys\n",
    "print(data.keys())"
   ]
  },
  {
   "cell_type": "code",
   "execution_count": 7,
   "id": "ff5b8681-2673-4fad-9393-48202947ce73",
   "metadata": {},
   "outputs": [],
   "source": [
    "df = pd.DataFrame(data['chats']['list'][4]['messages'])"
   ]
  },
  {
   "cell_type": "code",
   "execution_count": 8,
   "id": "993809bb-ff0a-4202-a7ae-3e22980f7851",
   "metadata": {},
   "outputs": [
    {
     "data": {
      "text/plain": [
       "(19497, 29)"
      ]
     },
     "execution_count": 8,
     "metadata": {},
     "output_type": "execute_result"
    }
   ],
   "source": [
    "df.shape"
   ]
  },
  {
   "cell_type": "markdown",
   "id": "ca13770d-3afe-47bc-93cf-e1b5fd11aba2",
   "metadata": {},
   "source": [
    "## Cleaning data"
   ]
  },
  {
   "cell_type": "code",
   "execution_count": 9,
   "id": "4ca2ef5f-da1c-4213-9e6a-a9ea32e615c9",
   "metadata": {},
   "outputs": [],
   "source": [
    "cols_keep = ['date', 'from', 'text']\n",
    "df = df[cols_keep]\n",
    "df = df[df['text'] != '']\n",
    "df = df.reset_index()\n",
    "df = df[['date', 'from', 'text']]\n",
    "df['date'] = pd.to_datetime(df['date']) "
   ]
  },
  {
   "cell_type": "code",
   "execution_count": 10,
   "id": "fcbcda54-3ba1-41a4-bf6e-7a99605b3ca9",
   "metadata": {},
   "outputs": [
    {
     "data": {
      "text/plain": [
       "{'prompt': '@lakers disappoint for a third straight night https://t.co/38EFe43 ->',\n",
       " 'completion': ' negative'}"
      ]
     },
     "execution_count": 10,
     "metadata": {},
     "output_type": "execute_result"
    }
   ],
   "source": [
    "{\"prompt\":\"Overjoyed with the new iPhone! ->\", \"completion\":\" positive\"}\n",
    "{\"prompt\":\"@lakers disappoint for a third straight night https://t.co/38EFe43 ->\", \"completion\":\" negative\"}"
   ]
  },
  {
   "cell_type": "code",
   "execution_count": 11,
   "id": "769f419b-174b-4707-830d-e819b543ffd0",
   "metadata": {},
   "outputs": [],
   "source": [
    "df = df.sort_values('date')  # sort by date to ensure messages are in order\n",
    "\n",
    "# Initialize the list to hold your data\n",
    "data = []\n",
    "\n",
    "# Iterate over the DataFrame\n",
    "for i in range(len(df) - 1):\n",
    "    # Check if the current text is from 'Schilling ;Mathias' and the next is from 'David Furrer'\n",
    "    if df.iloc[i]['from'] == 'Schilling ;Mathias' and df.iloc[i+1]['from'] == 'David Furrer':\n",
    "        # If so, add a new dict to data\n",
    "        data.append({\n",
    "            \"prompt\": df.iloc[i]['text'],\n",
    "            \"completion\": df.iloc[i+1]['text']\n",
    "        })\n",
    "\n",
    "# Write the final output to a file in the desired format\n",
    "with open('your_training_data.jsonl', 'w') as f:\n",
    "    for entry in data:\n",
    "        f.write(json.dumps(entry) + '\\n')"
   ]
  },
  {
   "cell_type": "markdown",
   "id": "801d6beb-8c2c-44c0-8839-e153d586d6cf",
   "metadata": {},
   "source": [
    "## finetune"
   ]
  },
  {
   "cell_type": "markdown",
   "id": "5481ef58-7ffd-40b4-8376-ae88157ad0bb",
   "metadata": {},
   "source": [
    "### Upload training data"
   ]
  },
  {
   "cell_type": "code",
   "execution_count": 101,
   "id": "d62e7a6d-2d4b-49db-9dcc-5f11de206e65",
   "metadata": {},
   "outputs": [
    {
     "data": {
      "text/plain": [
       "<File file id=file-i6kn1Dc7sdUxQFlwPU4fMwt2 at 0x7fd3e9f1a4d0> JSON: {\n",
       "  \"bytes\": 421044,\n",
       "  \"created_at\": 1686243455,\n",
       "  \"filename\": \"file\",\n",
       "  \"id\": \"file-i6kn1Dc7sdUxQFlwPU4fMwt2\",\n",
       "  \"object\": \"file\",\n",
       "  \"purpose\": \"fine-tune\",\n",
       "  \"status\": \"uploaded\",\n",
       "  \"status_details\": null\n",
       "}"
      ]
     },
     "execution_count": 101,
     "metadata": {},
     "output_type": "execute_result"
    }
   ],
   "source": [
    "openai.File.create(\n",
    "  file=open(\"your_training_data.jsonl\", \"rb\"),\n",
    "  purpose='fine-tune'\n",
    ")"
   ]
  },
  {
   "cell_type": "markdown",
   "id": "852e121a-b56a-44dd-b9c6-47e231e49290",
   "metadata": {},
   "source": [
    "### Start finetune"
   ]
  },
  {
   "cell_type": "code",
   "execution_count": 102,
   "id": "613a8fb0-b10b-4bf9-ae64-f2fd1dd1bc93",
   "metadata": {},
   "outputs": [
    {
     "data": {
      "text/plain": [
       "<FineTune fine-tune id=ft-DrWIfprMMOxHdJNoQK9BqTbc at 0x7fd41a3dddf0> JSON: {\n",
       "  \"created_at\": 1686243494,\n",
       "  \"events\": [\n",
       "    {\n",
       "      \"created_at\": 1686243494,\n",
       "      \"level\": \"info\",\n",
       "      \"message\": \"Created fine-tune: ft-DrWIfprMMOxHdJNoQK9BqTbc\",\n",
       "      \"object\": \"fine-tune-event\"\n",
       "    }\n",
       "  ],\n",
       "  \"fine_tuned_model\": null,\n",
       "  \"hyperparams\": {\n",
       "    \"batch_size\": null,\n",
       "    \"learning_rate_multiplier\": null,\n",
       "    \"n_epochs\": 4,\n",
       "    \"prompt_loss_weight\": 0.01\n",
       "  },\n",
       "  \"id\": \"ft-DrWIfprMMOxHdJNoQK9BqTbc\",\n",
       "  \"model\": \"curie\",\n",
       "  \"object\": \"fine-tune\",\n",
       "  \"organization_id\": \"org-6hJji0JKfgBPo7z8LLTibyDx\",\n",
       "  \"result_files\": [],\n",
       "  \"status\": \"pending\",\n",
       "  \"training_files\": [\n",
       "    {\n",
       "      \"bytes\": 421044,\n",
       "      \"created_at\": 1686243455,\n",
       "      \"filename\": \"file\",\n",
       "      \"id\": \"file-i6kn1Dc7sdUxQFlwPU4fMwt2\",\n",
       "      \"object\": \"file\",\n",
       "      \"purpose\": \"fine-tune\",\n",
       "      \"status\": \"processed\",\n",
       "      \"status_details\": null\n",
       "    }\n",
       "  ],\n",
       "  \"updated_at\": 1686243494,\n",
       "  \"validation_files\": []\n",
       "}"
      ]
     },
     "execution_count": 102,
     "metadata": {},
     "output_type": "execute_result"
    }
   ],
   "source": [
    "openai.FineTune.create(training_file=\"file-i6kn1Dc7sdUxQFlwPU4fMwt2\") # use id of file from last step"
   ]
  },
  {
   "cell_type": "code",
   "execution_count": 13,
   "id": "86ff3c6e-56ca-4e1d-949b-be887f6bb8d3",
   "metadata": {},
   "outputs": [],
   "source": [
    "# example with davinci, model is curie by default\n",
    "# openai.FineTune.create(training_file=\"file-i6kn1Dc7sdUxQFlwPU4fMwt2\", model='davinci', suffix='davemaedde') #davemaedde.jsonl curie"
   ]
  },
  {
   "cell_type": "markdown",
   "id": "6bae06f2-a95e-4fb2-8086-21fc6e966df1",
   "metadata": {},
   "source": [
    "## Check progress"
   ]
  },
  {
   "cell_type": "code",
   "execution_count": 14,
   "id": "c22fcbfa-a8bc-4ca2-900c-2443d8ac9603",
   "metadata": {},
   "outputs": [
    {
     "data": {
      "text/html": [
       "<div>\n",
       "<style scoped>\n",
       "    .dataframe tbody tr th:only-of-type {\n",
       "        vertical-align: middle;\n",
       "    }\n",
       "\n",
       "    .dataframe tbody tr th {\n",
       "        vertical-align: top;\n",
       "    }\n",
       "\n",
       "    .dataframe thead th {\n",
       "        text-align: right;\n",
       "    }\n",
       "</style>\n",
       "<table border=\"1\" class=\"dataframe\">\n",
       "  <thead>\n",
       "    <tr style=\"text-align: right;\">\n",
       "      <th></th>\n",
       "      <th>object</th>\n",
       "      <th>level</th>\n",
       "      <th>message</th>\n",
       "      <th>created_at</th>\n",
       "      <th>date_column</th>\n",
       "    </tr>\n",
       "  </thead>\n",
       "  <tbody>\n",
       "    <tr>\n",
       "      <th>0</th>\n",
       "      <td>fine-tune-event</td>\n",
       "      <td>info</td>\n",
       "      <td>Created fine-tune: ft-xsZ6aNhkAmesOx99IuWYUzpD</td>\n",
       "      <td>1686297965</td>\n",
       "      <td>2023-06-09 08:06:05</td>\n",
       "    </tr>\n",
       "    <tr>\n",
       "      <th>1</th>\n",
       "      <td>fine-tune-event</td>\n",
       "      <td>info</td>\n",
       "      <td>Fine-tune costs $10.10</td>\n",
       "      <td>1686298043</td>\n",
       "      <td>2023-06-09 08:07:23</td>\n",
       "    </tr>\n",
       "    <tr>\n",
       "      <th>2</th>\n",
       "      <td>fine-tune-event</td>\n",
       "      <td>info</td>\n",
       "      <td>Fine-tune enqueued. Queue number: 0</td>\n",
       "      <td>1686298043</td>\n",
       "      <td>2023-06-09 08:07:23</td>\n",
       "    </tr>\n",
       "    <tr>\n",
       "      <th>3</th>\n",
       "      <td>fine-tune-event</td>\n",
       "      <td>info</td>\n",
       "      <td>Fine-tune started</td>\n",
       "      <td>1686298189</td>\n",
       "      <td>2023-06-09 08:09:49</td>\n",
       "    </tr>\n",
       "    <tr>\n",
       "      <th>4</th>\n",
       "      <td>fine-tune-event</td>\n",
       "      <td>info</td>\n",
       "      <td>Completed epoch 1/4</td>\n",
       "      <td>1686298925</td>\n",
       "      <td>2023-06-09 08:22:05</td>\n",
       "    </tr>\n",
       "    <tr>\n",
       "      <th>5</th>\n",
       "      <td>fine-tune-event</td>\n",
       "      <td>info</td>\n",
       "      <td>Completed epoch 3/4</td>\n",
       "      <td>1686299981</td>\n",
       "      <td>2023-06-09 08:39:41</td>\n",
       "    </tr>\n",
       "    <tr>\n",
       "      <th>6</th>\n",
       "      <td>fine-tune-event</td>\n",
       "      <td>info</td>\n",
       "      <td>Uploaded model: davinci:ft-personal:davemaedde...</td>\n",
       "      <td>1686300545</td>\n",
       "      <td>2023-06-09 08:49:05</td>\n",
       "    </tr>\n",
       "    <tr>\n",
       "      <th>7</th>\n",
       "      <td>fine-tune-event</td>\n",
       "      <td>info</td>\n",
       "      <td>Uploaded result file: file-0LhixyjSiWvj9OrG8gY...</td>\n",
       "      <td>1686300546</td>\n",
       "      <td>2023-06-09 08:49:06</td>\n",
       "    </tr>\n",
       "    <tr>\n",
       "      <th>8</th>\n",
       "      <td>fine-tune-event</td>\n",
       "      <td>info</td>\n",
       "      <td>Fine-tune succeeded</td>\n",
       "      <td>1686300546</td>\n",
       "      <td>2023-06-09 08:49:06</td>\n",
       "    </tr>\n",
       "  </tbody>\n",
       "</table>\n",
       "</div>"
      ],
      "text/plain": [
       "            object level                                            message  \\\n",
       "0  fine-tune-event  info     Created fine-tune: ft-xsZ6aNhkAmesOx99IuWYUzpD   \n",
       "1  fine-tune-event  info                             Fine-tune costs $10.10   \n",
       "2  fine-tune-event  info                Fine-tune enqueued. Queue number: 0   \n",
       "3  fine-tune-event  info                                  Fine-tune started   \n",
       "4  fine-tune-event  info                                Completed epoch 1/4   \n",
       "5  fine-tune-event  info                                Completed epoch 3/4   \n",
       "6  fine-tune-event  info  Uploaded model: davinci:ft-personal:davemaedde...   \n",
       "7  fine-tune-event  info  Uploaded result file: file-0LhixyjSiWvj9OrG8gY...   \n",
       "8  fine-tune-event  info                                Fine-tune succeeded   \n",
       "\n",
       "   created_at         date_column  \n",
       "0  1686297965 2023-06-09 08:06:05  \n",
       "1  1686298043 2023-06-09 08:07:23  \n",
       "2  1686298043 2023-06-09 08:07:23  \n",
       "3  1686298189 2023-06-09 08:09:49  \n",
       "4  1686298925 2023-06-09 08:22:05  \n",
       "5  1686299981 2023-06-09 08:39:41  \n",
       "6  1686300545 2023-06-09 08:49:05  \n",
       "7  1686300546 2023-06-09 08:49:06  \n",
       "8  1686300546 2023-06-09 08:49:06  "
      ]
     },
     "execution_count": 14,
     "metadata": {},
     "output_type": "execute_result"
    }
   ],
   "source": [
    "# Take id from creation step\n",
    "df_ = pd.DataFrame(openai.FineTune.list_events(id=\"ft-xsZ6aNhkAmesOx99IuWYUzpD\")['data'])\n",
    "df_['date_column'] = pd.to_datetime(df_['created_at'], unit='s')\n",
    "df_"
   ]
  },
  {
   "cell_type": "markdown",
   "id": "fdb2353e-6648-4226-86db-a17aa7aadd4a",
   "metadata": {},
   "source": [
    "## All models"
   ]
  },
  {
   "cell_type": "code",
   "execution_count": 142,
   "id": "6aa0cd74-6ad6-49a7-b5f1-d098e6daf9e9",
   "metadata": {},
   "outputs": [
    {
     "data": {
      "text/html": [
       "<div>\n",
       "<style scoped>\n",
       "    .dataframe tbody tr th:only-of-type {\n",
       "        vertical-align: middle;\n",
       "    }\n",
       "\n",
       "    .dataframe tbody tr th {\n",
       "        vertical-align: top;\n",
       "    }\n",
       "\n",
       "    .dataframe thead th {\n",
       "        text-align: right;\n",
       "    }\n",
       "</style>\n",
       "<table border=\"1\" class=\"dataframe\">\n",
       "  <thead>\n",
       "    <tr style=\"text-align: right;\">\n",
       "      <th></th>\n",
       "      <th>id</th>\n",
       "      <th>object</th>\n",
       "      <th>created</th>\n",
       "      <th>owned_by</th>\n",
       "      <th>permission</th>\n",
       "      <th>root</th>\n",
       "      <th>parent</th>\n",
       "    </tr>\n",
       "  </thead>\n",
       "  <tbody>\n",
       "    <tr>\n",
       "      <th>0</th>\n",
       "      <td>whisper-1</td>\n",
       "      <td>model</td>\n",
       "      <td>1677532384</td>\n",
       "      <td>openai-internal</td>\n",
       "      <td>[{'id': 'modelperm-KlsZlfft3Gma8pI6A8rTnyjs', ...</td>\n",
       "      <td>whisper-1</td>\n",
       "      <td>None</td>\n",
       "    </tr>\n",
       "    <tr>\n",
       "      <th>1</th>\n",
       "      <td>babbage</td>\n",
       "      <td>model</td>\n",
       "      <td>1649358449</td>\n",
       "      <td>openai</td>\n",
       "      <td>[{'id': 'modelperm-49FUp5v084tBB49tC4z8LPH5', ...</td>\n",
       "      <td>babbage</td>\n",
       "      <td>None</td>\n",
       "    </tr>\n",
       "    <tr>\n",
       "      <th>2</th>\n",
       "      <td>davinci</td>\n",
       "      <td>model</td>\n",
       "      <td>1649359874</td>\n",
       "      <td>openai</td>\n",
       "      <td>[{'id': 'modelperm-U6ZwlyAd0LyMk4rcMdz33Yc3', ...</td>\n",
       "      <td>davinci</td>\n",
       "      <td>None</td>\n",
       "    </tr>\n",
       "    <tr>\n",
       "      <th>3</th>\n",
       "      <td>text-davinci-edit-001</td>\n",
       "      <td>model</td>\n",
       "      <td>1649809179</td>\n",
       "      <td>openai</td>\n",
       "      <td>[{'id': 'modelperm-otmQSS0hmabtVGHI9QB3bct3', ...</td>\n",
       "      <td>text-davinci-edit-001</td>\n",
       "      <td>None</td>\n",
       "    </tr>\n",
       "    <tr>\n",
       "      <th>4</th>\n",
       "      <td>babbage-code-search-code</td>\n",
       "      <td>model</td>\n",
       "      <td>1651172509</td>\n",
       "      <td>openai-dev</td>\n",
       "      <td>[{'id': 'modelperm-4qRnA3Hj8HIJbgo0cGbcmErn', ...</td>\n",
       "      <td>babbage-code-search-code</td>\n",
       "      <td>None</td>\n",
       "    </tr>\n",
       "  </tbody>\n",
       "</table>\n",
       "</div>"
      ],
      "text/plain": [
       "                         id object     created         owned_by  \\\n",
       "0                 whisper-1  model  1677532384  openai-internal   \n",
       "1                   babbage  model  1649358449           openai   \n",
       "2                   davinci  model  1649359874           openai   \n",
       "3     text-davinci-edit-001  model  1649809179           openai   \n",
       "4  babbage-code-search-code  model  1651172509       openai-dev   \n",
       "\n",
       "                                          permission  \\\n",
       "0  [{'id': 'modelperm-KlsZlfft3Gma8pI6A8rTnyjs', ...   \n",
       "1  [{'id': 'modelperm-49FUp5v084tBB49tC4z8LPH5', ...   \n",
       "2  [{'id': 'modelperm-U6ZwlyAd0LyMk4rcMdz33Yc3', ...   \n",
       "3  [{'id': 'modelperm-otmQSS0hmabtVGHI9QB3bct3', ...   \n",
       "4  [{'id': 'modelperm-4qRnA3Hj8HIJbgo0cGbcmErn', ...   \n",
       "\n",
       "                       root parent  \n",
       "0                 whisper-1   None  \n",
       "1                   babbage   None  \n",
       "2                   davinci   None  \n",
       "3     text-davinci-edit-001   None  \n",
       "4  babbage-code-search-code   None  "
      ]
     },
     "execution_count": 142,
     "metadata": {},
     "output_type": "execute_result"
    }
   ],
   "source": [
    "pd.DataFrame(openai.Model.list()['data']).head()"
   ]
  },
  {
   "cell_type": "markdown",
   "id": "6c64cfc3-d265-494b-ba16-588155ce58fc",
   "metadata": {},
   "source": [
    "## See all your finetunes and whether they are ready"
   ]
  },
  {
   "cell_type": "code",
   "execution_count": 146,
   "id": "094c7d20-1886-48f4-a5b8-6fe27edde099",
   "metadata": {},
   "outputs": [
    {
     "data": {
      "text/html": [
       "<div>\n",
       "<style scoped>\n",
       "    .dataframe tbody tr th:only-of-type {\n",
       "        vertical-align: middle;\n",
       "    }\n",
       "\n",
       "    .dataframe tbody tr th {\n",
       "        vertical-align: top;\n",
       "    }\n",
       "\n",
       "    .dataframe thead th {\n",
       "        text-align: right;\n",
       "    }\n",
       "</style>\n",
       "<table border=\"1\" class=\"dataframe\">\n",
       "  <thead>\n",
       "    <tr style=\"text-align: right;\">\n",
       "      <th></th>\n",
       "      <th>object</th>\n",
       "      <th>id</th>\n",
       "      <th>hyperparams</th>\n",
       "      <th>organization_id</th>\n",
       "      <th>model</th>\n",
       "      <th>training_files</th>\n",
       "      <th>validation_files</th>\n",
       "      <th>result_files</th>\n",
       "      <th>created_at</th>\n",
       "      <th>updated_at</th>\n",
       "      <th>status</th>\n",
       "      <th>fine_tuned_model</th>\n",
       "    </tr>\n",
       "  </thead>\n",
       "  <tbody>\n",
       "    <tr>\n",
       "      <th>0</th>\n",
       "      <td>fine-tune</td>\n",
       "      <td>ft-9n5Yinj6XxtuMH3Gq6wH3o6e</td>\n",
       "      <td>{'n_epochs': 4, 'batch_size': None, 'prompt_lo...</td>\n",
       "      <td>org-6hJji0JKfgBPo7z8LLTibyDx</td>\n",
       "      <td>curie</td>\n",
       "      <td>[{'object': 'file', 'id': 'file-5FSQhnuZvtWvrM...</td>\n",
       "      <td>[]</td>\n",
       "      <td>[]</td>\n",
       "      <td>1686243094</td>\n",
       "      <td>1686243162</td>\n",
       "      <td>failed</td>\n",
       "      <td>None</td>\n",
       "    </tr>\n",
       "    <tr>\n",
       "      <th>1</th>\n",
       "      <td>fine-tune</td>\n",
       "      <td>ft-DrWIfprMMOxHdJNoQK9BqTbc</td>\n",
       "      <td>{'n_epochs': 4, 'batch_size': 8, 'prompt_loss_...</td>\n",
       "      <td>org-6hJji0JKfgBPo7z8LLTibyDx</td>\n",
       "      <td>curie</td>\n",
       "      <td>[{'object': 'file', 'id': 'file-i6kn1Dc7sdUxQF...</td>\n",
       "      <td>[]</td>\n",
       "      <td>[{'object': 'file', 'id': 'file-1UIYUHIHyViX9V...</td>\n",
       "      <td>1686243494</td>\n",
       "      <td>1686245931</td>\n",
       "      <td>succeeded</td>\n",
       "      <td>curie:ft-personal-2023-06-08-17-38-50</td>\n",
       "    </tr>\n",
       "    <tr>\n",
       "      <th>2</th>\n",
       "      <td>fine-tune</td>\n",
       "      <td>ft-xsZ6aNhkAmesOx99IuWYUzpD</td>\n",
       "      <td>{'n_epochs': 4, 'batch_size': 8, 'prompt_loss_...</td>\n",
       "      <td>org-6hJji0JKfgBPo7z8LLTibyDx</td>\n",
       "      <td>davinci</td>\n",
       "      <td>[{'object': 'file', 'id': 'file-i6kn1Dc7sdUxQF...</td>\n",
       "      <td>[]</td>\n",
       "      <td>[{'object': 'file', 'id': 'file-0LhixyjSiWvj9O...</td>\n",
       "      <td>1686297965</td>\n",
       "      <td>1686300546</td>\n",
       "      <td>succeeded</td>\n",
       "      <td>davinci:ft-personal:davemaedde-2023-06-09-08-4...</td>\n",
       "    </tr>\n",
       "  </tbody>\n",
       "</table>\n",
       "</div>"
      ],
      "text/plain": [
       "      object                           id  \\\n",
       "0  fine-tune  ft-9n5Yinj6XxtuMH3Gq6wH3o6e   \n",
       "1  fine-tune  ft-DrWIfprMMOxHdJNoQK9BqTbc   \n",
       "2  fine-tune  ft-xsZ6aNhkAmesOx99IuWYUzpD   \n",
       "\n",
       "                                         hyperparams  \\\n",
       "0  {'n_epochs': 4, 'batch_size': None, 'prompt_lo...   \n",
       "1  {'n_epochs': 4, 'batch_size': 8, 'prompt_loss_...   \n",
       "2  {'n_epochs': 4, 'batch_size': 8, 'prompt_loss_...   \n",
       "\n",
       "                organization_id    model  \\\n",
       "0  org-6hJji0JKfgBPo7z8LLTibyDx    curie   \n",
       "1  org-6hJji0JKfgBPo7z8LLTibyDx    curie   \n",
       "2  org-6hJji0JKfgBPo7z8LLTibyDx  davinci   \n",
       "\n",
       "                                      training_files validation_files  \\\n",
       "0  [{'object': 'file', 'id': 'file-5FSQhnuZvtWvrM...               []   \n",
       "1  [{'object': 'file', 'id': 'file-i6kn1Dc7sdUxQF...               []   \n",
       "2  [{'object': 'file', 'id': 'file-i6kn1Dc7sdUxQF...               []   \n",
       "\n",
       "                                        result_files  created_at  updated_at  \\\n",
       "0                                                 []  1686243094  1686243162   \n",
       "1  [{'object': 'file', 'id': 'file-1UIYUHIHyViX9V...  1686243494  1686245931   \n",
       "2  [{'object': 'file', 'id': 'file-0LhixyjSiWvj9O...  1686297965  1686300546   \n",
       "\n",
       "      status                                   fine_tuned_model  \n",
       "0     failed                                               None  \n",
       "1  succeeded              curie:ft-personal-2023-06-08-17-38-50  \n",
       "2  succeeded  davinci:ft-personal:davemaedde-2023-06-09-08-4...  "
      ]
     },
     "execution_count": 146,
     "metadata": {},
     "output_type": "execute_result"
    }
   ],
   "source": [
    "pd.DataFrame(openai.FineTune.list()['data'])"
   ]
  },
  {
   "cell_type": "code",
   "execution_count": null,
   "id": "060f25eb-5b9b-4d22-b66d-f0752f1462d5",
   "metadata": {},
   "outputs": [],
   "source": [
    "#openai.FineTune.cancel(id=\"ft-AF1WoRqd3aJAHsqc9NY7iL8F\")"
   ]
  },
  {
   "cell_type": "markdown",
   "id": "22c33f1c-e3b7-4aeb-9538-757b40d626b3",
   "metadata": {},
   "source": [
    "## Query your finetuned model"
   ]
  },
  {
   "cell_type": "markdown",
   "id": "d356e994-48e2-422c-a16f-25e1ee4cec1e",
   "metadata": {},
   "source": [
    "Also possible in playground"
   ]
  },
  {
   "cell_type": "code",
   "execution_count": 135,
   "id": "1b7c46eb-fa5a-435f-9f95-844d028e2883",
   "metadata": {},
   "outputs": [],
   "source": [
    "response = openai.Completion.create(\n",
    "  model=\"curie:ft-personal-2023-06-08-17-38-50\",\n",
    "  prompt=\"Say this is a test\",\n",
    "  max_tokens=7,\n",
    "  temperature=0\n",
    ")"
   ]
  },
  {
   "cell_type": "code",
   "execution_count": 136,
   "id": "e1f191e2-9ea5-4692-8587-b0aff417333e",
   "metadata": {},
   "outputs": [
    {
     "data": {
      "text/plain": [
       "'true, just a test to see'"
      ]
     },
     "execution_count": 136,
     "metadata": {},
     "output_type": "execute_result"
    }
   ],
   "source": [
    "response.choices[0].text"
   ]
  }
 ],
 "metadata": {
  "kernelspec": {
   "display_name": "Python 3 (ipykernel)",
   "language": "python",
   "name": "python3"
  },
  "language_info": {
   "codemirror_mode": {
    "name": "ipython",
    "version": 3
   },
   "file_extension": ".py",
   "mimetype": "text/x-python",
   "name": "python",
   "nbconvert_exporter": "python",
   "pygments_lexer": "ipython3",
   "version": "3.10.11"
  }
 },
 "nbformat": 4,
 "nbformat_minor": 5
}
